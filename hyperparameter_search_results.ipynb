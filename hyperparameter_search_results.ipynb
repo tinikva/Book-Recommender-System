{
 "cells": [
  {
   "cell_type": "code",
   "execution_count": 134,
   "metadata": {},
   "outputs": [],
   "source": [
    "import json\n",
    "import matplotlib.pyplot as plt\n",
    "%matplotlib inline\n",
    "import seaborn as sns\n",
    "import pandas as pd\n",
    "sns.set(style=\"whitegrid\")\n",
    "sns.set(rc={'figure.figsize':(10,8)})"
   ]
  },
  {
   "cell_type": "code",
   "execution_count": 135,
   "metadata": {},
   "outputs": [],
   "source": [
    "with open('results/als_100_percent_20200509172905.json') as f:\n",
    "    results_100 = json.load(f)"
   ]
  },
  {
   "cell_type": "code",
   "execution_count": 136,
   "metadata": {},
   "outputs": [
    {
     "data": {
      "text/plain": [
       "{'GridSearch': [{'rank': 5,\n",
       "   'regParam': 0.001,\n",
       "   'maxIter': 10,\n",
       "   'map': 0.6508540521233059,\n",
       "   'subsample': '100_percent',\n",
       "   'modelFileName': 'final_project/models/model_20200509095415',\n",
       "   'timeElapsed': 0.4428936349999999},\n",
       "  {'rank': 5,\n",
       "   'regParam': 0.01,\n",
       "   'maxIter': 10,\n",
       "   'map': 0.6627105561067085,\n",
       "   'subsample': '100_percent',\n",
       "   'modelFileName': 'final_project/models/model_20200509100559',\n",
       "   'timeElapsed': 0.12703733399999972},\n",
       "  {'rank': 5,\n",
       "   'regParam': 0.1,\n",
       "   'maxIter': 10,\n",
       "   'map': 0.6952171826306418,\n",
       "   'subsample': '100_percent',\n",
       "   'modelFileName': 'final_project/models/model_20200509101503',\n",
       "   'timeElapsed': 0.10555775200000017},\n",
       "  {'rank': 5,\n",
       "   'regParam': 1,\n",
       "   'maxIter': 10,\n",
       "   'map': 0.6833845214547323,\n",
       "   'subsample': '100_percent',\n",
       "   'modelFileName': 'final_project/models/model_20200509102610',\n",
       "   'timeElapsed': 0.12237396999999994},\n",
       "  {'rank': 10,\n",
       "   'regParam': 0.001,\n",
       "   'maxIter': 10,\n",
       "   'map': 0.6357859779430445,\n",
       "   'subsample': '100_percent',\n",
       "   'modelFileName': 'final_project/models/model_20200509104049',\n",
       "   'timeElapsed': 0.14813196400000006},\n",
       "  {'rank': 10,\n",
       "   'regParam': 0.01,\n",
       "   'maxIter': 10,\n",
       "   'map': 0.6577926125756982,\n",
       "   'subsample': '100_percent',\n",
       "   'modelFileName': 'final_project/models/model_20200509105158',\n",
       "   'timeElapsed': 0.12178867399999938},\n",
       "  {'rank': 10,\n",
       "   'regParam': 0.1,\n",
       "   'maxIter': 10,\n",
       "   'map': 0.6993514771187281,\n",
       "   'subsample': '100_percent',\n",
       "   'modelFileName': 'final_project/models/model_20200509110459',\n",
       "   'timeElapsed': 0.11504024999999984},\n",
       "  {'rank': 10,\n",
       "   'regParam': 1,\n",
       "   'maxIter': 10,\n",
       "   'map': 0.6834187799444117,\n",
       "   'subsample': '100_percent',\n",
       "   'modelFileName': 'final_project/models/model_20200509111616',\n",
       "   'timeElapsed': 0.12759184300000026},\n",
       "  {'rank': 20,\n",
       "   'regParam': 0.001,\n",
       "   'maxIter': 10,\n",
       "   'map': 0.6264053794044893,\n",
       "   'subsample': '100_percent',\n",
       "   'modelFileName': 'final_project/models/model_20200509112744',\n",
       "   'timeElapsed': 0.11144492099999947},\n",
       "  {'rank': 20,\n",
       "   'regParam': 0.01,\n",
       "   'maxIter': 10,\n",
       "   'map': 0.6539841884824961,\n",
       "   'subsample': '100_percent',\n",
       "   'modelFileName': 'final_project/models/model_20200509114616',\n",
       "   'timeElapsed': 0.14249611099999981},\n",
       "  {'rank': 20,\n",
       "   'regParam': 0.1,\n",
       "   'maxIter': 10,\n",
       "   'map': 0.7022218709459213,\n",
       "   'subsample': '100_percent',\n",
       "   'modelFileName': 'final_project/models/model_20200509120417',\n",
       "   'timeElapsed': 0.1340796710000003},\n",
       "  {'rank': 20,\n",
       "   'regParam': 1,\n",
       "   'maxIter': 10,\n",
       "   'map': 0.6835751519221007,\n",
       "   'subsample': '100_percent',\n",
       "   'modelFileName': 'final_project/models/model_20200509122348',\n",
       "   'timeElapsed': 0.1480364310000004},\n",
       "  {'rank': 30,\n",
       "   'regParam': 0.001,\n",
       "   'maxIter': 10,\n",
       "   'map': 0.6231173146573713,\n",
       "   'subsample': '100_percent',\n",
       "   'modelFileName': 'final_project/models/model_20200509125126',\n",
       "   'timeElapsed': 0.17964060300000018},\n",
       "  {'rank': 30,\n",
       "   'regParam': 0.01,\n",
       "   'maxIter': 10,\n",
       "   'map': 0.6528490483748617,\n",
       "   'subsample': '100_percent',\n",
       "   'modelFileName': 'final_project/models/model_20200509131831',\n",
       "   'timeElapsed': 0.1549793270000004},\n",
       "  {'rank': 30,\n",
       "   'regParam': 0.1,\n",
       "   'maxIter': 10,\n",
       "   'map': 0.7038011587999188,\n",
       "   'subsample': '100_percent',\n",
       "   'modelFileName': 'final_project/models/model_20200509135721',\n",
       "   'timeElapsed': 0.2069114679999995},\n",
       "  {'rank': 30,\n",
       "   'regParam': 1,\n",
       "   'maxIter': 10,\n",
       "   'map': 0.6834254442859576,\n",
       "   'subsample': '100_percent',\n",
       "   'modelFileName': 'final_project/models/model_20200509142455',\n",
       "   'timeElapsed': 0.19476647499999977},\n",
       "  {'rank': 50,\n",
       "   'regParam': 0.001,\n",
       "   'maxIter': 10,\n",
       "   'map': 0.6221194197472256,\n",
       "   'subsample': '100_percent',\n",
       "   'modelFileName': 'final_project/models/model_20200509150437',\n",
       "   'timeElapsed': 0.243259780999999},\n",
       "  {'rank': 50,\n",
       "   'regParam': 0.01,\n",
       "   'maxIter': 10,\n",
       "   'map': 0.6549901537298808,\n",
       "   'subsample': '100_percent',\n",
       "   'modelFileName': 'final_project/models/model_20200509154534',\n",
       "   'timeElapsed': 0.22146945099999904},\n",
       "  {'rank': 50,\n",
       "   'regParam': 0.1,\n",
       "   'maxIter': 10,\n",
       "   'map': 0.7051195344948674,\n",
       "   'subsample': '100_percent',\n",
       "   'modelFileName': 'final_project/models/model_20200509164104',\n",
       "   'timeElapsed': 0.534331925},\n",
       "  {'rank': 50,\n",
       "   'regParam': 1,\n",
       "   'maxIter': 10,\n",
       "   'map': 0.6834720944111468,\n",
       "   'subsample': '100_percent',\n",
       "   'modelFileName': 'final_project/models/model_20200509172423',\n",
       "   'timeElapsed': 0.24858774199999978}]}"
      ]
     },
     "execution_count": 136,
     "metadata": {},
     "output_type": "execute_result"
    }
   ],
   "source": [
    "results_100"
   ]
  },
  {
   "cell_type": "code",
   "execution_count": 111,
   "metadata": {},
   "outputs": [],
   "source": [
    "results ={'rank':[], 'regParam': [], 'map': [] }\n",
    "for i in results_100['GridSearch']:\n",
    "    results['rank'].append(i['rank'])\n",
    "    results['regParam'].append(i['regParam'])\n",
    "    results['map'].append(i['map'])"
   ]
  },
  {
   "cell_type": "code",
   "execution_count": 112,
   "metadata": {},
   "outputs": [],
   "source": [
    "results = pd.DataFrame(results)"
   ]
  },
  {
   "cell_type": "code",
   "execution_count": 132,
   "metadata": {},
   "outputs": [
    {
     "data": {
      "image/png": "[encoded data removed]",
      "text/plain": [
       "<Figure size 720x576 with 1 Axes>"
      ]
     },
     "metadata": {},
     "output_type": "display_data"
    }
   ],
   "source": [
    "sns_bar = sns.barplot(x='rank', y = 'map', hue='regParam', data = results)\n",
    "sns_bar.set_title('Hyperparameter Search Results', fontsize=18)\n",
    "plt.legend(title='regParam')\n",
    "plt.ylim(0, 0.95)\n",
    "for p in sns_bar.patches:\n",
    "    sns_bar.annotate(format(p.get_height(), '.2f'), (p.get_x() + p.get_width() / 2., p.get_height()), ha = 'center', va = 'center', xytext = (0, 10), textcoords = 'offset points')\n",
    "\n"
   ]
  },
  {
   "cell_type": "code",
   "execution_count": 133,
   "metadata": {},
   "outputs": [],
   "source": [
    "sns_bar.figure.savefig('hyperparameter_results.PNG')  "
   ]
  },
  {
   "cell_type": "code",
   "execution_count": null,
   "metadata": {},
   "outputs": [],
   "source": []
  }
 ],
 "metadata": {
  "kernelspec": {
   "display_name": "Python 3",
   "language": "python",
   "name": "python3"
  },
  "language_info": {
   "codemirror_mode": {
    "name": "ipython",
    "version": 3
   },
   "file_extension": ".py",
   "mimetype": "text/x-python",
   "name": "python",
   "nbconvert_exporter": "python",
   "pygments_lexer": "ipython3",
   "version": "3.7.3"
  }
 },
 "nbformat": 4,
 "nbformat_minor": 2
}
